{
 "cells": [
  {
   "cell_type": "code",
   "execution_count": 31,
   "metadata": {},
   "outputs": [],
   "source": [
    "import re\n",
    "import torch\n",
    "import my_Dataset\n",
    "import torch.nn as nn\n",
    "import my_tools\n",
    "import my_Net\n",
    "import torch.utils.data as data"
   ]
  },
  {
   "cell_type": "code",
   "execution_count": 32,
   "metadata": {},
   "outputs": [],
   "source": [
    "with open('dataset/jay.txt','r') as f, open('dataset/poetry.txt') as ff: \n",
    "    lines=f.readlines()\n",
    "    liness=ff.readlines()\n",
    "    lines=lines+liness\n",
    "def tokenize(lines):\n",
    "    return [list(line) for line in lines]"
   ]
  },
  {
   "cell_type": "code",
   "execution_count": 33,
   "metadata": {},
   "outputs": [],
   "source": [
    "tokens=tokenize(lines)\n",
    "corpus_str=[token for line in tokens for token in line]\n",
    "#print(corpus)\n",
    "corpus_str=[re.sub(r'\\u3000','  ',word) for word in corpus_str]\n",
    "corpus_str=[re.sub(r'\\n','。',word) for word in corpus_str]"
   ]
  },
  {
   "cell_type": "code",
   "execution_count": 34,
   "metadata": {},
   "outputs": [],
   "source": [
    "batch_size=64\n",
    "num_steps=48\n",
    "lr=0.001\n",
    "num_epochs=25\n",
    "device=torch.device('cuda')\n",
    "num_hiddens=512"
   ]
  },
  {
   "cell_type": "code",
   "execution_count": 35,
   "metadata": {},
   "outputs": [
    {
     "name": "stdout",
     "output_type": "stream",
     "text": [
      "(1007606, 5880)\n"
     ]
    }
   ],
   "source": [
    "vocab=my_Dataset.Vocab(corpus_str)\n",
    "feature_dims = len(vocab)\n",
    "print(f'{len(corpus_str), len(vocab)}')"
   ]
  },
  {
   "cell_type": "code",
   "execution_count": 36,
   "metadata": {},
   "outputs": [
    {
     "data": {
      "text/plain": [
       "CrossEntropyLoss()"
      ]
     },
     "execution_count": 36,
     "metadata": {},
     "output_type": "execute_result"
    }
   ],
   "source": [
    "net=my_Net.Net(Rnn_type='GRU', Rnn_layers=(512,256), Linear_layers=(128,feature_dims), vocab=vocab, device=device)\n",
    "loss = nn.CrossEntropyLoss(reduction='none')\n",
    "optimizer=torch.optim.Adam(net.parameters(),lr=lr)\n",
    "net.to(device)\n",
    "loss.to(device)"
   ]
  },
  {
   "cell_type": "code",
   "execution_count": 37,
   "metadata": {},
   "outputs": [
    {
     "name": "stdout",
     "output_type": "stream",
     "text": [
      "epoch=0, ppl=465.384, speed=16494.619\n",
      "epoch=1, ppl=246.036, speed=16515.651\n",
      "epoch=2, ppl=191.202, speed=16590.717\n",
      "epoch=3, ppl=147.776, speed=16577.791\n",
      "epoch=4, ppl=129.922, speed=16574.153\n",
      "epoch=5, ppl=117.557, speed=16588.615\n",
      "epoch=6, ppl=105.595, speed=16581.336\n",
      "epoch=7, ppl=95.480, speed=16596.742\n",
      "epoch=8, ppl=86.128, speed=16764.670\n",
      "epoch=9, ppl=78.803, speed=16869.227\n",
      "epoch=10, ppl=71.360, speed=16780.616\n",
      "epoch=11, ppl=65.400, speed=16842.539\n",
      "epoch=12, ppl=59.096, speed=16844.506\n",
      "epoch=13, ppl=54.864, speed=16911.937\n",
      "epoch=14, ppl=50.105, speed=16849.052\n",
      "epoch=15, ppl=46.109, speed=16881.678\n",
      "epoch=16, ppl=42.095, speed=16812.407\n",
      "epoch=17, ppl=39.155, speed=16854.248\n",
      "epoch=18, ppl=36.184, speed=16824.752\n",
      "epoch=19, ppl=33.512, speed=16883.593\n",
      "epoch=20, ppl=31.365, speed=16828.693\n",
      "epoch=21, ppl=28.964, speed=16590.122\n",
      "epoch=22, ppl=27.236, speed=16551.094\n",
      "epoch=23, ppl=25.026, speed=16596.323\n",
      "epoch=24, ppl=24.361, speed=16566.325\n"
     ]
    }
   ],
   "source": [
    "for epoch in range(num_epochs):\n",
    "    dataset=my_Dataset.my_data(corpus_str,num_steps)\n",
    "    dataset=data.DataLoader(dataset,batch_size=batch_size,shuffle=True)\n",
    "    ppl,speed=my_tools.train_procedure_in_each_epoch(net=net,dataset=dataset,loss=loss,optimizer=optimizer,device=device)\n",
    "    print(f'{epoch=}, {ppl=:.3f}, {speed=:.3f}')"
   ]
  },
  {
   "cell_type": "code",
   "execution_count": 51,
   "metadata": {},
   "outputs": [
    {
     "data": {
      "text/plain": [
       "'无关风月下，不见海云端。。一夜不可寐，清风吹玉筝。。玉壶分御酒，金屋贮瑶琴。。明月临风舍，清光入御楼。。不知天下客，不是到南州。。一日三秋后，空山万里时。。山光连水碧，云影带云危。。独有长沙客，何人更此看。。'"
      ]
     },
     "execution_count": 51,
     "metadata": {},
     "output_type": "execute_result"
    }
   ],
   "source": [
    "net.predict('无关风月',100)"
   ]
  }
 ],
 "metadata": {
  "kernelspec": {
   "display_name": "d2l",
   "language": "python",
   "name": "python3"
  },
  "language_info": {
   "codemirror_mode": {
    "name": "ipython",
    "version": 3
   },
   "file_extension": ".py",
   "mimetype": "text/x-python",
   "name": "python",
   "nbconvert_exporter": "python",
   "pygments_lexer": "ipython3",
   "version": "3.9.7"
  }
 },
 "nbformat": 4,
 "nbformat_minor": 2
}
